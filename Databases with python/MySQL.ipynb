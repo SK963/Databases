{
 "cells": [
  {
   "cell_type": "markdown",
   "metadata": {},
   "source": [
    "# USING MYSQL-CONNECTOR-PYTHON LIBRARY"
   ]
  },
  {
   "cell_type": "markdown",
   "metadata": {},
   "source": [
    "### Library Installation & import"
   ]
  },
  {
   "cell_type": "code",
   "execution_count": null,
   "metadata": {},
   "outputs": [],
   "source": [
    "pip install mysql-connector-python"
   ]
  },
  {
   "cell_type": "code",
   "execution_count": null,
   "metadata": {},
   "outputs": [],
   "source": [
    "# Import the mysql.connector library\n",
    "import mysql.connector"
   ]
  },
  {
   "cell_type": "markdown",
   "metadata": {},
   "source": [
    "\n",
    "### Creating Connection &  Cursor"
   ]
  },
  {
   "cell_type": "code",
   "execution_count": null,
   "metadata": {},
   "outputs": [],
   "source": [
    "\n",
    "# directly connect to a particular  database\n",
    "# connection = mysql.connector.connect(\n",
    "#     host=\"localhost\",\n",
    "#     user=\"your_username\",\n",
    "#     password=\"your_password\",\n",
    "#     database=\"your_database\"\n",
    "# )\n",
    "\n",
    "# cursor = connection.cursor()\n",
    "# print(\"Connection to MySQL established successfully.\")\n",
    "\n",
    "# creating Connection to MySQL \n",
    "connection = mysql.connector.connect(\n",
    "            host= \"localhost\",\n",
    "            user= \"root\",\n",
    "            password= \"S@kumar009\"\n",
    "            )\n",
    "\n",
    "print(connection)\n",
    "\n",
    "# Creating  a cursor \n",
    "cursor = connection.cursor()\n",
    "print(cursor)"
   ]
  },
  {
   "cell_type": "markdown",
   "metadata": {},
   "source": [
    "### Execution"
   ]
  },
  {
   "cell_type": "code",
   "execution_count": null,
   "metadata": {},
   "outputs": [],
   "source": [
    "\n",
    "cursor.execute(\"SHOW DATABASES\")\n",
    "\n",
    "print(cursor)\n",
    "\n",
    "for db in cursor:\n",
    "    print(db)"
   ]
  },
  {
   "cell_type": "code",
   "execution_count": null,
   "metadata": {},
   "outputs": [],
   "source": [
    "# creating a Database\n",
    "cursor.execute(\"CREATE DATABASE if  not exists SK\")\n",
    "connection.commit()"
   ]
  },
  {
   "cell_type": "code",
   "execution_count": null,
   "metadata": {},
   "outputs": [],
   "source": [
    "# Connect to the new database\n",
    "connection.database = \"SK\""
   ]
  },
  {
   "cell_type": "code",
   "execution_count": null,
   "metadata": {},
   "outputs": [],
   "source": [
    "# Create a table\n",
    "create_table_query = \"\"\"\n",
    "CREATE TABLE IF NOT EXISTS users (\n",
    "  id INT AUTO_INCREMENT PRIMARY KEY,\n",
    "  name VARCHAR(100) NOT NULL,\n",
    "  age INT,\n",
    "  gender ENUM('M', 'F', 'O'),\n",
    "  nationality VARCHAR(100)\n",
    ");\n",
    "\"\"\"\n",
    "cursor.execute(create_table_query)\n",
    "connection.commit()"
   ]
  },
  {
   "cell_type": "code",
   "execution_count": null,
   "metadata": {},
   "outputs": [],
   "source": [
    "cursor.execute(\"SHOW TABLES\")\n",
    "\n",
    "for table in cursor:\n",
    "    print(table)"
   ]
  },
  {
   "cell_type": "code",
   "execution_count": null,
   "metadata": {},
   "outputs": [],
   "source": [
    "select_query = \"SELECT * FROM users\"\n",
    "\n",
    "cursor.execute(select_query)\n",
    "\n",
    "for row in cursor:\n",
    "    print(row)"
   ]
  },
  {
   "cell_type": "code",
   "execution_count": null,
   "metadata": {},
   "outputs": [],
   "source": [
    "insert_users_query = \"\"\"\n",
    "INSERT INTO users (name, age, gender, nationality) VALUES\n",
    "('James', 25, 'M', 'USA'),\n",
    "('Leila', 32, 'F', 'France'),\n",
    "('Brigitte', 35, 'F', 'England');\n",
    "\"\"\"\n",
    "\n",
    "cursor.execute(insert_users_query)\n",
    "connection.commit()"
   ]
  },
  {
   "cell_type": "code",
   "execution_count": null,
   "metadata": {},
   "outputs": [],
   "source": [
    "\n",
    "# Update data in the table\n",
    "update_query = \"\"\"\n",
    "UPDATE users\n",
    "SET age = %s\n",
    "WHERE name = %s\n",
    "\"\"\"\n",
    "cursor.execute(update_query, (30, 'James'))\n",
    "connection.commit()\n",
    "\n",
    "print(\"Data updated successfully.\")"
   ]
  },
  {
   "cell_type": "code",
   "execution_count": null,
   "metadata": {},
   "outputs": [],
   "source": [
    "# Delete data from the table\n",
    "delete_query = \"\"\"\n",
    "DELETE FROM users\n",
    "WHERE name = %s\n",
    "\"\"\"\n",
    "cursor.execute(delete_query, ('Brigitte',))\n",
    "connection.commit()\n",
    "\n",
    "print(\"Data deleted successfully.\")"
   ]
  },
  {
   "cell_type": "markdown",
   "metadata": {},
   "source": [
    "# USING PYMYSQL LIBRARY"
   ]
  },
  {
   "cell_type": "code",
   "execution_count": null,
   "metadata": {},
   "outputs": [],
   "source": [
    "pip install PyMySQL"
   ]
  },
  {
   "cell_type": "code",
   "execution_count": null,
   "metadata": {},
   "outputs": [],
   "source": [
    "import pymysql.cursors"
   ]
  },
  {
   "cell_type": "code",
   "execution_count": null,
   "metadata": {},
   "outputs": [],
   "source": [
    "# Connect to the database\n",
    "connection = pymysql.connect(host='localhost',\n",
    "                             user='root',\n",
    "                             password='S@kumar009',\n",
    "                             database='customers',\n",
    "                             cursorclass=pymysql.cursors.DictCursor)\n",
    "\n",
    "\n",
    "#with dictcursor the each tuple is stored in a dict format\n",
    "with connection.cursor() as cursor:\n",
    "        # Read a single record\n",
    "        sql = \"SELECT * FROM customer\"\n",
    "        cursor.execute(sql)\n",
    "        result = cursor.fetchall()\n",
    "        for customer in result:\n",
    "                print(customer)"
   ]
  },
  {
   "cell_type": "code",
   "execution_count": null,
   "metadata": {},
   "outputs": [],
   "source": [
    "# Connect to the database\n",
    "connection = pymysql.connect(host='localhost',\n",
    "                             user='root',\n",
    "                             password='S@kumar009',\n",
    "                             database='customers')\n",
    "\n",
    "\n",
    "with connection.cursor() as cursor:\n",
    "        # Read a single record\n",
    "        sql = \"SELECT * FROM customer\"\n",
    "        cursor.execute(sql)\n",
    "        result = cursor.fetchall()\n",
    "        for customer in result:\n",
    "                print(customer)"
   ]
  }
 ],
 "metadata": {
  "kernelspec": {
   "display_name": "Python 3",
   "language": "python",
   "name": "python3"
  },
  "language_info": {
   "codemirror_mode": {
    "name": "ipython",
    "version": 3
   },
   "file_extension": ".py",
   "mimetype": "text/x-python",
   "name": "python",
   "nbconvert_exporter": "python",
   "pygments_lexer": "ipython3",
   "version": "3.11.5"
  }
 },
 "nbformat": 4,
 "nbformat_minor": 2
}
