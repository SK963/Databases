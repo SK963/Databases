{
 "cells": [
  {
   "cell_type": "code",
   "execution_count": null,
   "metadata": {},
   "outputs": [],
   "source": [
    "pip install psycopg2"
   ]
  },
  {
   "cell_type": "code",
   "execution_count": 2,
   "metadata": {},
   "outputs": [],
   "source": [
    "import psycopg2\n",
    "import psycopg2.extras"
   ]
  },
  {
   "cell_type": "code",
   "execution_count": null,
   "metadata": {},
   "outputs": [],
   "source": [
    "hostname = 'localhost'\n",
    "database = 'demo'\n",
    "username = 'postgres'\n",
    "pwd = 'admin'\n",
    "port_id = 5432\n",
    "conn = None"
   ]
  },
  {
   "cell_type": "code",
   "execution_count": null,
   "metadata": {},
   "outputs": [],
   "source": [
    "try:\n",
    "    with psycopg2.connect(\n",
    "                host = hostname,\n",
    "                dbname = database,\n",
    "                user = username,\n",
    "                password = pwd,\n",
    "                port = port_id) as conn:\n",
    "\n",
    "        with conn.cursor(cursor_factory=psycopg2.extras.DictCursor) as cur:\n",
    "\n",
    "            cur.execute('DROP TABLE IF EXISTS employee')\n",
    "\n",
    "            create_script = ''' CREATE TABLE IF NOT EXISTS employee (\n",
    "                                    id      int PRIMARY KEY,\n",
    "                                    name    varchar(40) NOT NULL,\n",
    "                                    salary  int,\n",
    "                                    dept_id varchar(30)) '''\n",
    "            cur.execute(create_script)\n",
    "\n",
    "            insert_script  = 'INSERT INTO employee (id, name, salary, dept_id) VALUES (%s, %s, %s, %s)'\n",
    "            insert_values = [(1, 'James', 12000, 'D1'), (2, 'Robin', 15000, 'D1'), (3, 'Xavier', 20000, 'D2')]\n",
    "            for record in insert_values:\n",
    "                cur.execute(insert_script, record)\n",
    "\n",
    "            update_script = 'UPDATE employee SET salary = salary + (salary * 0.5)'\n",
    "            cur.execute(update_script)\n",
    "\n",
    "            delete_script = 'DELETE FROM employee WHERE name = %s'\n",
    "            delete_record = ('James',)\n",
    "            cur.execute(delete_script, delete_record)\n",
    "\n",
    "            cur.execute('SELECT * FROM EMPLOYEE')\n",
    "            for record in cur.fetchall():\n",
    "                print(record['name'], record['salary'])\n",
    "except Exception as error:\n",
    "    print(error)\n",
    "finally:\n",
    "    if conn is not None:\n",
    "        conn.close()"
   ]
  }
 ],
 "metadata": {
  "kernelspec": {
   "display_name": "Python 3",
   "language": "python",
   "name": "python3"
  },
  "language_info": {
   "codemirror_mode": {
    "name": "ipython",
    "version": 3
   },
   "file_extension": ".py",
   "mimetype": "text/x-python",
   "name": "python",
   "nbconvert_exporter": "python",
   "pygments_lexer": "ipython3",
   "version": "3.11.5"
  }
 },
 "nbformat": 4,
 "nbformat_minor": 2
}
