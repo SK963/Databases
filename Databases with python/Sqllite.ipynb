{
 "cells": [
  {
   "cell_type": "code",
   "execution_count": 1,
   "metadata": {},
   "outputs": [
    {
     "name": "stdout",
     "output_type": "stream",
     "text": [
      "Database connected successfully.\n"
     ]
    }
   ],
   "source": [
    "import sqlite3\n",
    "\n",
    "# Connect to SQLite database\n",
    "# If the database does not exist, it will be created\n",
    "connection = sqlite3.connect('movies.db')\n",
    "\n",
    "# Create a cursor object to interact with the database\n",
    "cursor = connection.cursor()\n",
    "\n",
    "print(\"Database connected successfully.\")\n"
   ]
  },
  {
   "cell_type": "code",
   "execution_count": 2,
   "metadata": {},
   "outputs": [
    {
     "ename": "SyntaxError",
     "evalue": "invalid syntax (2998549786.py, line 1)",
     "output_type": "error",
     "traceback": [
      "\u001b[1;36m  Cell \u001b[1;32mIn[2], line 1\u001b[1;36m\u001b[0m\n\u001b[1;33m    show databases;\u001b[0m\n\u001b[1;37m         ^\u001b[0m\n\u001b[1;31mSyntaxError\u001b[0m\u001b[1;31m:\u001b[0m invalid syntax\n"
     ]
    }
   ],
   "source": []
  },
  {
   "cell_type": "code",
   "execution_count": 2,
   "metadata": {},
   "outputs": [
    {
     "name": "stdout",
     "output_type": "stream",
     "text": [
      "Table created successfully.\n"
     ]
    }
   ],
   "source": [
    "# Create a table\n",
    "create_table_query = \"\"\"\n",
    "CREATE TABLE IF NOT EXISTS users (\n",
    "    id INTEGER PRIMARY KEY AUTOINCREMENT,\n",
    "    name TEXT NOT NULL,\n",
    "    age INTEGER,\n",
    "    gender TEXT,\n",
    "    nationality TEXT\n",
    ");\n",
    "\"\"\"\n",
    "\n",
    "cursor.execute(create_table_query)\n",
    "connection.commit()\n",
    "\n",
    "print(\"Table created successfully.\")\n"
   ]
  },
  {
   "cell_type": "code",
   "execution_count": 3,
   "metadata": {},
   "outputs": [
    {
     "name": "stdout",
     "output_type": "stream",
     "text": [
      "Data inserted successfully.\n"
     ]
    }
   ],
   "source": [
    "# Insert data into the table\n",
    "insert_query = \"\"\"\n",
    "INSERT INTO users (name, age, gender, nationality)\n",
    "VALUES (?, ?, ?, ?);\n",
    "\"\"\"\n",
    "\n",
    "# Data to be inserted\n",
    "users = [\n",
    "    ('James', 25, 'Male', 'USA'),\n",
    "    ('Leila', 32, 'Female', 'France'),\n",
    "    ('Brigitte', 35, 'Female', 'England'),\n",
    "]\n",
    "\n",
    "# Execute the query for each user\n",
    "cursor.executemany(insert_query, users)\n",
    "connection.commit()\n",
    "\n",
    "print(\"Data inserted successfully.\")\n"
   ]
  },
  {
   "cell_type": "code",
   "execution_count": 5,
   "metadata": {},
   "outputs": [
    {
     "name": "stdout",
     "output_type": "stream",
     "text": [
      "[(1, 'James', 25, 'Male', 'USA'), (2, 'Leila', 32, 'Female', 'France'), (3, 'Brigitte', 35, 'Female', 'England')]\n",
      "(1, 'James', 25, 'Male', 'USA')\n",
      "(2, 'Leila', 32, 'Female', 'France')\n",
      "(3, 'Brigitte', 35, 'Female', 'England')\n"
     ]
    }
   ],
   "source": [
    "# Query data from the table\n",
    "select_query = \"SELECT * FROM users\"\n",
    "\n",
    "cursor.execute(select_query)\n",
    "rows = cursor.fetchall()\n",
    "\n",
    "print(rows)\n",
    "\n",
    "for row in rows:\n",
    "    print(row)\n"
   ]
  },
  {
   "cell_type": "code",
   "execution_count": 6,
   "metadata": {},
   "outputs": [
    {
     "name": "stdout",
     "output_type": "stream",
     "text": [
      "Data updated successfully.\n"
     ]
    }
   ],
   "source": [
    "# Update data in the table\n",
    "update_query = \"\"\"\n",
    "UPDATE users\n",
    "SET age = ?\n",
    "WHERE name = ?;\n",
    "\"\"\"\n",
    "\n",
    "cursor.execute(update_query, (30, 'James'))\n",
    "connection.commit()\n",
    "\n",
    "print(\"Data updated successfully.\")\n"
   ]
  },
  {
   "cell_type": "code",
   "execution_count": 7,
   "metadata": {},
   "outputs": [
    {
     "name": "stdout",
     "output_type": "stream",
     "text": [
      "Data deleted successfully.\n"
     ]
    }
   ],
   "source": [
    "# Delete data from the table\n",
    "delete_query = \"\"\"\n",
    "DELETE FROM users\n",
    "WHERE name = ?;\n",
    "\"\"\"\n",
    "\n",
    "cursor.execute(delete_query, ('Brigitte',))\n",
    "connection.commit()\n",
    "\n",
    "print(\"Data deleted successfully.\")\n"
   ]
  },
  {
   "cell_type": "code",
   "execution_count": 8,
   "metadata": {},
   "outputs": [
    {
     "name": "stdout",
     "output_type": "stream",
     "text": [
      "Database connection closed.\n"
     ]
    }
   ],
   "source": [
    "# Close the cursor and connection\n",
    "cursor.close()\n",
    "connection.close()\n",
    "\n",
    "print(\"Database connection closed.\")\n"
   ]
  }
 ],
 "metadata": {
  "kernelspec": {
   "display_name": "Python 3",
   "language": "python",
   "name": "python3"
  },
  "language_info": {
   "codemirror_mode": {
    "name": "ipython",
    "version": 3
   },
   "file_extension": ".py",
   "mimetype": "text/x-python",
   "name": "python",
   "nbconvert_exporter": "python",
   "pygments_lexer": "ipython3",
   "version": "3.11.5"
  }
 },
 "nbformat": 4,
 "nbformat_minor": 2
}
