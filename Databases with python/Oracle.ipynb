{
 "cells": [
  {
   "cell_type": "code",
   "execution_count": null,
   "metadata": {},
   "outputs": [],
   "source": [
    "pip install oracledb"
   ]
  },
  {
   "cell_type": "code",
   "execution_count": 13,
   "metadata": {},
   "outputs": [],
   "source": [
    "import oracledb"
   ]
  },
  {
   "cell_type": "code",
   "execution_count": 23,
   "metadata": {},
   "outputs": [
    {
     "name": "stdout",
     "output_type": "stream",
     "text": [
      "[(101, 1, 'ALLAHABAD'), (102, 2, 'KANPUR'), (102, 3, 'DELHI'), (104, 3, 'HYDERABAD')]\n"
     ]
    }
   ],
   "source": [
    "connection  = oracledb.connect(user = \"SYSTEM\" ,\n",
    "                             password = \"123\" , \n",
    "                             dsn = \"localhost:1521\" )\n",
    "\n",
    "\n",
    "with connection.cursor() as cur:\n",
    "    cur.execute(\"Select * from ORDER1\")\n",
    "    print(cur.fetchall())\n"
   ]
  },
  {
   "cell_type": "code",
   "execution_count": 22,
   "metadata": {},
   "outputs": [
    {
     "name": "stdout",
     "output_type": "stream",
     "text": [
      "(101, 1, 'ALLAHABAD')\n",
      "(102, 2, 'KANPUR')\n",
      "(102, 3, 'DELHI')\n",
      "(104, 3, 'HYDERABAD')\n"
     ]
    }
   ],
   "source": [
    "\n",
    "# Set up the connection parameters\n",
    "username = \"SYSTEM\"\n",
    "password = \"123\"\n",
    "dsn = \"localhost:1521/XE\"  # e.g., \"localhost:1521/XE\"\n",
    "\n",
    "# Optional: Set the mode to use Oracle Client libraries (needed for Oracle 10g)\n",
    "oracledb.init_oracle_client(lib_dir=\"C:\\instantclient_21_14\")\n",
    "\n",
    "try:\n",
    "    # Establish the connection\n",
    "    connection = oracledb.connect(user=username, password=password, dsn=dsn)\n",
    "\n",
    "    # Create a cursor object\n",
    "    cursor = connection.cursor()\n",
    "\n",
    "    # Execute a SQL query\n",
    "    cursor.execute(\"SELECT * FROM ORDER1 \")\n",
    "\n",
    "    # Fetch and print the results\n",
    "    for row in cursor.fetchall():\n",
    "        print(row)\n",
    "\n",
    "except oracledb.DatabaseError as e:\n",
    "    print(f\"Database error occurred: {e}\")\n",
    "finally:\n",
    "    # Close the cursor and connection\n",
    "    if cursor:\n",
    "        cursor.close()\n",
    "    if connection:\n",
    "        connection.close()\n"
   ]
  },
  {
   "cell_type": "code",
   "execution_count": null,
   "metadata": {},
   "outputs": [],
   "source": []
  }
 ],
 "metadata": {
  "kernelspec": {
   "display_name": "Python 3",
   "language": "python",
   "name": "python3"
  },
  "language_info": {
   "codemirror_mode": {
    "name": "ipython",
    "version": 3
   },
   "file_extension": ".py",
   "mimetype": "text/x-python",
   "name": "python",
   "nbconvert_exporter": "python",
   "pygments_lexer": "ipython3",
   "version": "3.11.5"
  }
 },
 "nbformat": 4,
 "nbformat_minor": 2
}
